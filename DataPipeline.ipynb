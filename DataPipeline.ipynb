{
 "cells": [
  {
   "cell_type": "markdown",
   "metadata": {},
   "source": [
    "*DATA PIPELINE*"
   ]
  },
  {
   "cell_type": "code",
   "execution_count": null,
   "metadata": {},
   "outputs": [],
   "source": [
    "#Import Libraries\n",
    "import sklearn\n",
    "import luigi\n",
    "import pandas as pd\n",
    "import csv\n"
   ]
  },
  {
   "cell_type": "code",
   "execution_count": null,
   "metadata": {},
   "outputs": [],
   "source": [
    "# Set Configuration\n",
    "data_loc = \"MURA\""
   ]
  },
  {
   "cell_type": "code",
   "execution_count": null,
   "metadata": {},
   "outputs": [],
   "source": [
    "class Load_Meta_Data(luigi.Task):\n",
    "    \n",
    "    def read_data_from_csv(self,test_or_valid):\n",
    "        data = []\n",
    "        with open(data_loc+\"/{}_image_paths.csv\".format(test_or_valid),\"r\") as csvfile:\n",
    "            reader = csv.reader(csvfile)\n",
    "            for row in reader:\n",
    "                path = row[0]\n",
    "                fields = path.split(\"/\")\n",
    "                area = fields[2].split(\"_\")[1]\n",
    "                patient = fields[3].split(\"patient\")[1]\n",
    "                num = fields[5].replace(\"image\",'').replace(\".png\",'')\n",
    "                target = 1 if fields[4].split(\"_\")[1] == \"positive\" else 0\n",
    "                data.append([path,area,patient,num,target])\n",
    "\n",
    "        meta_data = pd.DataFrame(data,columns = [\"path\", \"area\", \"patient\",\"num\",\"target\"])\n",
    "        return meta_data\n",
    " \n",
    "    def requires(self):\n",
    "        return []\n",
    " \n",
    "    def output(self):\n",
    "        return luigi.LocalTarget(\"pipeline/meta_data.csv\")\n",
    " \n",
    "    def run(self):\n",
    "        test_data = self.read_data_from_csv(\"train\")\n",
    "        valid_data =  self.read_data_from_csv(\"valid\")\n",
    "        all_data = pd.concat([test_data,valid_data])\n",
    "        with self.output().open('w') as file:\n",
    "            all_data.to_csv(file, index=False)\n",
    "    \n",
    "    "
   ]
  },
  {
   "cell_type": "code",
   "execution_count": null,
   "metadata": {},
   "outputs": [],
   "source": [
    "luigi.run(main_task_cls=Load_Meta_Data,cmdline_args=[\"--local-scheduler\"])"
   ]
  },
  {
   "cell_type": "code",
   "execution_count": null,
   "metadata": {},
   "outputs": [],
   "source": []
  }
 ],
 "metadata": {
  "kernelspec": {
   "display_name": "muranet",
   "language": "python",
   "name": "muranet"
  },
  "language_info": {
   "codemirror_mode": {
    "name": "ipython",
    "version": 3
   },
   "file_extension": ".py",
   "mimetype": "text/x-python",
   "name": "python",
   "nbconvert_exporter": "python",
   "pygments_lexer": "ipython3",
   "version": "3.6.3"
  }
 },
 "nbformat": 4,
 "nbformat_minor": 2
}
